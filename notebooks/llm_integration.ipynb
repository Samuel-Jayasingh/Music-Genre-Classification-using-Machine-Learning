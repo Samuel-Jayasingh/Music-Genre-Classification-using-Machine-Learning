{
 "cells": [
  {
   "cell_type": "code",
   "execution_count": 11,
   "metadata": {},
   "outputs": [
    {
     "name": "stderr",
     "output_type": "stream",
     "text": [
      "c:\\Users\\samue\\AppData\\Local\\Programs\\Python\\Python313\\Lib\\site-packages\\huggingface_hub\\file_download.py:142: UserWarning: `huggingface_hub` cache-system uses symlinks by default to efficiently store duplicated files but your machine does not support them in C:\\Users\\samue\\.cache\\huggingface\\hub\\models--sentence-transformers--all-MiniLM-L6-v2. Caching files will still work but in a degraded version that might require more space on your disk. This warning can be disabled by setting the `HF_HUB_DISABLE_SYMLINKS_WARNING` environment variable. For more details, see https://huggingface.co/docs/huggingface_hub/how-to-cache#limitations.\n",
      "To support symlinks on Windows, you either need to activate Developer Mode or to run Python as an administrator. In order to activate developer mode, see this article: https://docs.microsoft.com/en-us/windows/apps/get-started/enable-your-device-for-development\n",
      "  warnings.warn(message)\n",
      "Exception ignored in: <function tqdm.__del__ at 0x00000277E74C6660>\n",
      "Traceback (most recent call last):\n",
      "  File \"c:\\Users\\samue\\AppData\\Local\\Programs\\Python\\Python313\\Lib\\site-packages\\tqdm\\std.py\", line 1148, in __del__\n",
      "    self.close()\n",
      "  File \"c:\\Users\\samue\\AppData\\Local\\Programs\\Python\\Python313\\Lib\\site-packages\\tqdm\\notebook.py\", line 279, in close\n",
      "    self.disp(bar_style='danger', check_delay=False)\n",
      "AttributeError: 'tqdm_notebook' object has no attribute 'disp'\n",
      "Processing genre batches: 100%|██████████| 10/10 [00:02<00:00,  3.72it/s]\n",
      "Processing artist batches: 100%|██████████| 10/10 [06:10<00:00, 37.07s/it]\n"
     ]
    },
    {
     "name": "stdout",
     "output_type": "stream",
     "text": [
      "Embedding integration complete. Enhanced data saved to ../data/tracks_llm_enhanced.csv.\n"
     ]
    }
   ],
   "source": [
    "# LLM Integration for Music Recommendation System (SentenceTransformers)\n",
    "# =============================================================================\n",
    "\n",
    "import pandas as pd\n",
    "import numpy as np\n",
    "from sentence_transformers import SentenceTransformer\n",
    "from sklearn.metrics.pairwise import cosine_similarity\n",
    "import time\n",
    "from tqdm import tqdm\n",
    "\n",
    "tracks = pd.read_csv('../data/tracks_processed.csv')\n",
    "\n",
    "# SentenceTransformer model\n",
    "embedding_model = SentenceTransformer('all-MiniLM-L6-v2')\n",
    "\n",
    "def safe_embed(text, model, max_retries=3):\n",
    "    \"\"\"\n",
    "    Obtain a text embedding using the SentenceTransformer model with error handling.\n",
    "    Returns a zero vector (of dimension 384 for all-MiniLM-L6-v2) if text is missing or retries fail.\n",
    "    \"\"\"\n",
    "    if pd.isna(text):\n",
    "        return np.zeros(384)\n",
    "    \n",
    "    retries = 0\n",
    "    while retries < max_retries:\n",
    "        try:\n",
    "            embedding = model.encode(text)\n",
    "            return np.array(embedding)\n",
    "        except Exception as e:\n",
    "            print(f\"Error during embedding: {e}. Retrying in 5 seconds...\")\n",
    "            time.sleep(5)\n",
    "            retries += 1\n",
    "    return np.zeros(384)\n",
    "\n",
    "# caches for embeddings\n",
    "genre_embedding_cache = {}\n",
    "artist_embedding_cache = {}\n",
    "\n",
    "# Process unique genres using distributed batching\n",
    "unique_genres = tracks['track_genre'].unique()\n",
    "for genre_batch in tqdm(np.array_split(unique_genres, 10), \n",
    "                        desc=\"Processing genre batches\", total=10):\n",
    "    for genre in genre_batch:\n",
    "        if genre not in genre_embedding_cache:\n",
    "            genre_embedding_cache[genre] = safe_embed(genre, embedding_model)\n",
    "\n",
    "# Process unique artists using distributed batching\n",
    "unique_artists = tracks['artists'].unique()\n",
    "for artist_batch in tqdm(np.array_split(unique_artists, 10), \n",
    "                         desc=\"Processing artist batches\", total=10):\n",
    "    for artist in artist_batch:\n",
    "        if artist not in artist_embedding_cache:\n",
    "            artist_embedding_cache[artist] = safe_embed(artist, embedding_model)\n",
    "\n",
    "# Map the computed embeddings back to the tracks DataFrame.\n",
    "# Convert the numpy arrays to lists for CSV serialization.\n",
    "tracks['genre_embedding'] = tracks['track_genre'].map(genre_embedding_cache).apply(lambda emb: emb.tolist())\n",
    "tracks['artist_embedding'] = tracks['artists'].map(artist_embedding_cache).apply(lambda emb: emb.tolist())\n",
    "\n",
    "# Save the enhanced data to a new CSV file\n",
    "output_path = '../data/tracks_llm_enhanced.csv'\n",
    "try:\n",
    "    tracks.to_csv(output_path, index=False)\n",
    "    print(f\"Embedding integration complete. Enhanced data saved to {output_path}.\")\n",
    "except Exception as e:\n",
    "    print(f\"Failed to save enhanced data: {e}. Check embedding dimensions and data format.\")\n"
   ]
  }
 ],
 "metadata": {
  "kernelspec": {
   "display_name": "Python 3",
   "language": "python",
   "name": "python3"
  },
  "language_info": {
   "codemirror_mode": {
    "name": "ipython",
    "version": 3
   },
   "file_extension": ".py",
   "mimetype": "text/x-python",
   "name": "python",
   "nbconvert_exporter": "python",
   "pygments_lexer": "ipython3",
   "version": "3.13.1"
  }
 },
 "nbformat": 4,
 "nbformat_minor": 2
}
